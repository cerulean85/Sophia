{
 "cells": [
  {
   "cell_type": "code",
   "execution_count": 4,
   "id": "18dcaae3-ecf7-46de-b63a-eeb1bb16da01",
   "metadata": {
    "scrolled": true
   },
   "outputs": [
    {
     "name": "stdout",
     "output_type": "stream",
     "text": [
      "Requirement already satisfied: yfinance in c:\\users\\hanwha\\desktop\\개인폴더\\sophia\\investment\\venv\\lib\\site-packages (0.2.41)\n",
      "Requirement already satisfied: pandas>=1.3.0 in c:\\users\\hanwha\\desktop\\개인폴더\\sophia\\investment\\venv\\lib\\site-packages (from yfinance) (2.2.2)\n",
      "Requirement already satisfied: numpy>=1.16.5 in c:\\users\\hanwha\\desktop\\개인폴더\\sophia\\investment\\venv\\lib\\site-packages (from yfinance) (2.0.1)\n",
      "Requirement already satisfied: requests>=2.31 in c:\\users\\hanwha\\desktop\\개인폴더\\sophia\\investment\\venv\\lib\\site-packages (from yfinance) (2.32.3)\n",
      "Requirement already satisfied: multitasking>=0.0.7 in c:\\users\\hanwha\\desktop\\개인폴더\\sophia\\investment\\venv\\lib\\site-packages (from yfinance) (0.0.11)\n",
      "Requirement already satisfied: lxml>=4.9.1 in c:\\users\\hanwha\\desktop\\개인폴더\\sophia\\investment\\venv\\lib\\site-packages (from yfinance) (5.2.2)\n",
      "Requirement already satisfied: platformdirs>=2.0.0 in c:\\users\\hanwha\\desktop\\개인폴더\\sophia\\investment\\venv\\lib\\site-packages (from yfinance) (4.2.2)\n",
      "Requirement already satisfied: pytz>=2022.5 in c:\\users\\hanwha\\desktop\\개인폴더\\sophia\\investment\\venv\\lib\\site-packages (from yfinance) (2024.1)\n",
      "Requirement already satisfied: frozendict>=2.3.4 in c:\\users\\hanwha\\desktop\\개인폴더\\sophia\\investment\\venv\\lib\\site-packages (from yfinance) (2.4.4)\n",
      "Requirement already satisfied: peewee>=3.16.2 in c:\\users\\hanwha\\desktop\\개인폴더\\sophia\\investment\\venv\\lib\\site-packages (from yfinance) (3.17.6)\n",
      "Requirement already satisfied: beautifulsoup4>=4.11.1 in c:\\users\\hanwha\\desktop\\개인폴더\\sophia\\investment\\venv\\lib\\site-packages (from yfinance) (4.12.3)\n",
      "Requirement already satisfied: html5lib>=1.1 in c:\\users\\hanwha\\desktop\\개인폴더\\sophia\\investment\\venv\\lib\\site-packages (from yfinance) (1.1)\n",
      "Requirement already satisfied: soupsieve>1.2 in c:\\users\\hanwha\\desktop\\개인폴더\\sophia\\investment\\venv\\lib\\site-packages (from beautifulsoup4>=4.11.1->yfinance) (2.5)\n",
      "Requirement already satisfied: six>=1.9 in c:\\users\\hanwha\\desktop\\개인폴더\\sophia\\investment\\venv\\lib\\site-packages (from html5lib>=1.1->yfinance) (1.16.0)\n",
      "Requirement already satisfied: webencodings in c:\\users\\hanwha\\desktop\\개인폴더\\sophia\\investment\\venv\\lib\\site-packages (from html5lib>=1.1->yfinance) (0.5.1)\n",
      "Requirement already satisfied: python-dateutil>=2.8.2 in c:\\users\\hanwha\\desktop\\개인폴더\\sophia\\investment\\venv\\lib\\site-packages (from pandas>=1.3.0->yfinance) (2.9.0.post0)\n",
      "Requirement already satisfied: tzdata>=2022.7 in c:\\users\\hanwha\\desktop\\개인폴더\\sophia\\investment\\venv\\lib\\site-packages (from pandas>=1.3.0->yfinance) (2024.1)\n",
      "Requirement already satisfied: charset-normalizer<4,>=2 in c:\\users\\hanwha\\desktop\\개인폴더\\sophia\\investment\\venv\\lib\\site-packages (from requests>=2.31->yfinance) (3.3.2)\n",
      "Requirement already satisfied: idna<4,>=2.5 in c:\\users\\hanwha\\desktop\\개인폴더\\sophia\\investment\\venv\\lib\\site-packages (from requests>=2.31->yfinance) (3.7)\n",
      "Requirement already satisfied: urllib3<3,>=1.21.1 in c:\\users\\hanwha\\desktop\\개인폴더\\sophia\\investment\\venv\\lib\\site-packages (from requests>=2.31->yfinance) (2.2.2)\n",
      "Requirement already satisfied: certifi>=2017.4.17 in c:\\users\\hanwha\\desktop\\개인폴더\\sophia\\investment\\venv\\lib\\site-packages (from requests>=2.31->yfinance) (2024.7.4)\n"
     ]
    },
    {
     "name": "stderr",
     "output_type": "stream",
     "text": [
      "\n",
      "[notice] A new release of pip is available: 24.0 -> 24.1.2\n",
      "[notice] To update, run: python.exe -m pip install --upgrade pip\n"
     ]
    }
   ],
   "source": [
    "!pip install yfinance"
   ]
  },
  {
   "cell_type": "code",
   "execution_count": 5,
   "id": "f207b705-1961-451b-90a9-42ab2e27fb64",
   "metadata": {},
   "outputs": [
    {
     "name": "stdout",
     "output_type": "stream",
     "text": [
      "Collecting matplotlib\n",
      "  Downloading matplotlib-3.9.1-cp312-cp312-win_amd64.whl.metadata (11 kB)\n",
      "Collecting contourpy>=1.0.1 (from matplotlib)\n",
      "  Downloading contourpy-1.2.1-cp312-cp312-win_amd64.whl.metadata (5.8 kB)\n",
      "Collecting cycler>=0.10 (from matplotlib)\n",
      "  Using cached cycler-0.12.1-py3-none-any.whl.metadata (3.8 kB)\n",
      "Collecting fonttools>=4.22.0 (from matplotlib)\n",
      "  Downloading fonttools-4.53.1-cp312-cp312-win_amd64.whl.metadata (165 kB)\n",
      "     ---------------------------------------- 0.0/165.9 kB ? eta -:--:--\n",
      "     -------------- ------------------------ 61.4/165.9 kB 3.4 MB/s eta 0:00:01\n",
      "     ---------------------------- --------- 122.9/165.9 kB 1.8 MB/s eta 0:00:01\n",
      "     -------------------------------------- 165.9/165.9 kB 1.4 MB/s eta 0:00:00\n",
      "Collecting kiwisolver>=1.3.1 (from matplotlib)\n",
      "  Downloading kiwisolver-1.4.5-cp312-cp312-win_amd64.whl.metadata (6.5 kB)\n",
      "Requirement already satisfied: numpy>=1.23 in c:\\users\\hanwha\\desktop\\개인폴더\\sophia\\investment\\venv\\lib\\site-packages (from matplotlib) (2.0.1)\n",
      "Requirement already satisfied: packaging>=20.0 in c:\\users\\hanwha\\desktop\\개인폴더\\sophia\\investment\\venv\\lib\\site-packages (from matplotlib) (24.1)\n",
      "Collecting pillow>=8 (from matplotlib)\n",
      "  Downloading pillow-10.4.0-cp312-cp312-win_amd64.whl.metadata (9.3 kB)\n",
      "Collecting pyparsing>=2.3.1 (from matplotlib)\n",
      "  Using cached pyparsing-3.1.2-py3-none-any.whl.metadata (5.1 kB)\n",
      "Requirement already satisfied: python-dateutil>=2.7 in c:\\users\\hanwha\\desktop\\개인폴더\\sophia\\investment\\venv\\lib\\site-packages (from matplotlib) (2.9.0.post0)\n",
      "Requirement already satisfied: six>=1.5 in c:\\users\\hanwha\\desktop\\개인폴더\\sophia\\investment\\venv\\lib\\site-packages (from python-dateutil>=2.7->matplotlib) (1.16.0)\n",
      "Downloading matplotlib-3.9.1-cp312-cp312-win_amd64.whl (8.0 MB)\n",
      "   ---------------------------------------- 0.0/8.0 MB ? eta -:--:--\n",
      "    --------------------------------------- 0.1/8.0 MB 7.0 MB/s eta 0:00:02\n",
      "   - -------------------------------------- 0.3/8.0 MB 3.4 MB/s eta 0:00:03\n",
      "   - -------------------------------------- 0.4/8.0 MB 3.4 MB/s eta 0:00:03\n",
      "   -- ------------------------------------- 0.5/8.0 MB 3.2 MB/s eta 0:00:03\n",
      "   --- ------------------------------------ 0.6/8.0 MB 3.1 MB/s eta 0:00:03\n",
      "   --- ------------------------------------ 0.8/8.0 MB 2.8 MB/s eta 0:00:03\n",
      "   ---- ----------------------------------- 0.9/8.0 MB 3.0 MB/s eta 0:00:03\n",
      "   ---- ----------------------------------- 1.0/8.0 MB 2.9 MB/s eta 0:00:03\n",
      "   ----- ---------------------------------- 1.1/8.0 MB 2.8 MB/s eta 0:00:03\n",
      "   ------ --------------------------------- 1.2/8.0 MB 2.9 MB/s eta 0:00:03\n",
      "   ------ --------------------------------- 1.4/8.0 MB 2.9 MB/s eta 0:00:03\n",
      "   ------- -------------------------------- 1.5/8.0 MB 2.9 MB/s eta 0:00:03\n",
      "   -------- ------------------------------- 1.7/8.0 MB 3.0 MB/s eta 0:00:03\n",
      "   --------- ------------------------------ 1.9/8.0 MB 3.0 MB/s eta 0:00:03\n",
      "   ---------- ----------------------------- 2.0/8.0 MB 3.0 MB/s eta 0:00:03\n",
      "   ---------- ----------------------------- 2.2/8.0 MB 3.0 MB/s eta 0:00:02\n",
      "   ----------- ---------------------------- 2.3/8.0 MB 3.0 MB/s eta 0:00:02\n",
      "   ------------ --------------------------- 2.4/8.0 MB 3.0 MB/s eta 0:00:02\n",
      "   ------------ --------------------------- 2.6/8.0 MB 3.1 MB/s eta 0:00:02\n",
      "   ------------- -------------------------- 2.7/8.0 MB 3.0 MB/s eta 0:00:02\n",
      "   ------------- -------------------------- 2.8/8.0 MB 3.0 MB/s eta 0:00:02\n",
      "   -------------- ------------------------- 2.9/8.0 MB 2.9 MB/s eta 0:00:02\n",
      "   -------------- ------------------------- 2.9/8.0 MB 3.0 MB/s eta 0:00:02\n",
      "   -------------- ------------------------- 2.9/8.0 MB 3.0 MB/s eta 0:00:02\n",
      "   -------------- ------------------------- 2.9/8.0 MB 3.0 MB/s eta 0:00:02\n",
      "   ---------------- ----------------------- 3.2/8.0 MB 2.7 MB/s eta 0:00:02\n",
      "   ----------------- ---------------------- 3.5/8.0 MB 2.9 MB/s eta 0:00:02\n",
      "   ------------------ --------------------- 3.7/8.0 MB 3.0 MB/s eta 0:00:02\n",
      "   -------------------- ------------------- 4.1/8.0 MB 3.1 MB/s eta 0:00:02\n",
      "   --------------------- ------------------ 4.3/8.0 MB 3.2 MB/s eta 0:00:02\n",
      "   ---------------------- ----------------- 4.5/8.0 MB 3.3 MB/s eta 0:00:02\n",
      "   ----------------------- ---------------- 4.8/8.0 MB 3.3 MB/s eta 0:00:01\n",
      "   ------------------------- -------------- 5.0/8.0 MB 3.4 MB/s eta 0:00:01\n",
      "   -------------------------- ------------- 5.4/8.0 MB 3.5 MB/s eta 0:00:01\n",
      "   ----------------------------- ---------- 5.8/8.0 MB 3.7 MB/s eta 0:00:01\n",
      "   -------------------------------- ------- 6.4/8.0 MB 4.0 MB/s eta 0:00:01\n",
      "   ------------------------------------ --- 7.3/8.0 MB 4.4 MB/s eta 0:00:01\n",
      "   ---------------------------------------  8.0/8.0 MB 4.7 MB/s eta 0:00:01\n",
      "   ---------------------------------------- 8.0/8.0 MB 4.6 MB/s eta 0:00:00\n",
      "Downloading contourpy-1.2.1-cp312-cp312-win_amd64.whl (189 kB)\n",
      "   ---------------------------------------- 0.0/189.9 kB ? eta -:--:--\n",
      "   ---------------------------------------- 189.9/189.9 kB 5.8 MB/s eta 0:00:00\n",
      "Using cached cycler-0.12.1-py3-none-any.whl (8.3 kB)\n",
      "Downloading fonttools-4.53.1-cp312-cp312-win_amd64.whl (2.2 MB)\n",
      "   ---------------------------------------- 0.0/2.2 MB ? eta -:--:--\n",
      "   ----- ---------------------------------- 0.3/2.2 MB 8.9 MB/s eta 0:00:01\n",
      "   ---------- ----------------------------- 0.6/2.2 MB 6.2 MB/s eta 0:00:01\n",
      "   ---------------- ----------------------- 0.9/2.2 MB 6.4 MB/s eta 0:00:01\n",
      "   ------------------- -------------------- 1.1/2.2 MB 6.3 MB/s eta 0:00:01\n",
      "   ----------------------- ---------------- 1.3/2.2 MB 5.9 MB/s eta 0:00:01\n",
      "   --------------------------- ------------ 1.5/2.2 MB 5.6 MB/s eta 0:00:01\n",
      "   ----------------------------- ---------- 1.6/2.2 MB 5.2 MB/s eta 0:00:01\n",
      "   -------------------------------- ------- 1.8/2.2 MB 5.1 MB/s eta 0:00:01\n",
      "   ------------------------------------ --- 2.0/2.2 MB 5.0 MB/s eta 0:00:01\n",
      "   ------------------------------------ --- 2.0/2.2 MB 5.0 MB/s eta 0:00:01\n",
      "   ------------------------------------ --- 2.0/2.2 MB 5.0 MB/s eta 0:00:01\n",
      "   ------------------------------------- -- 2.0/2.2 MB 3.8 MB/s eta 0:00:01\n",
      "   ---------------------------------------  2.2/2.2 MB 3.6 MB/s eta 0:00:01\n",
      "   ---------------------------------------- 2.2/2.2 MB 3.6 MB/s eta 0:00:00\n",
      "Downloading kiwisolver-1.4.5-cp312-cp312-win_amd64.whl (56 kB)\n",
      "   ---------------------------------------- 0.0/56.0 kB ? eta -:--:--\n",
      "   ---------------------------------------- 56.0/56.0 kB ? eta 0:00:00\n",
      "Downloading pillow-10.4.0-cp312-cp312-win_amd64.whl (2.6 MB)\n",
      "   ---------------------------------------- 0.0/2.6 MB ? eta -:--:--\n",
      "   ----- ---------------------------------- 0.3/2.6 MB 7.3 MB/s eta 0:00:01\n",
      "   -------- ------------------------------- 0.6/2.6 MB 7.2 MB/s eta 0:00:01\n",
      "   ------------ --------------------------- 0.8/2.6 MB 6.1 MB/s eta 0:00:01\n",
      "   ------------- -------------------------- 0.9/2.6 MB 5.1 MB/s eta 0:00:01\n",
      "   --------------- ------------------------ 1.0/2.6 MB 4.5 MB/s eta 0:00:01\n",
      "   ----------------- ---------------------- 1.1/2.6 MB 4.3 MB/s eta 0:00:01\n",
      "   ------------------ --------------------- 1.2/2.6 MB 4.0 MB/s eta 0:00:01\n",
      "   -------------------- ------------------- 1.3/2.6 MB 3.9 MB/s eta 0:00:01\n",
      "   ---------------------- ----------------- 1.4/2.6 MB 3.6 MB/s eta 0:00:01\n",
      "   ------------------------ --------------- 1.5/2.6 MB 3.4 MB/s eta 0:00:01\n",
      "   ------------------------- -------------- 1.7/2.6 MB 3.4 MB/s eta 0:00:01\n",
      "   ---------------------------- ----------- 1.8/2.6 MB 3.4 MB/s eta 0:00:01\n",
      "   ----------------------------- ---------- 1.9/2.6 MB 3.3 MB/s eta 0:00:01\n",
      "   ------------------------------- -------- 2.0/2.6 MB 3.3 MB/s eta 0:00:01\n",
      "   -------------------------------- ------- 2.1/2.6 MB 3.2 MB/s eta 0:00:01\n",
      "   ---------------------------------- ----- 2.2/2.6 MB 3.0 MB/s eta 0:00:01\n",
      "   ----------------------------------- ---- 2.3/2.6 MB 3.0 MB/s eta 0:00:01\n",
      "   ------------------------------------- -- 2.4/2.6 MB 2.9 MB/s eta 0:00:01\n",
      "   -------------------------------------- - 2.5/2.6 MB 2.9 MB/s eta 0:00:01\n",
      "   ---------------------------------------  2.5/2.6 MB 2.9 MB/s eta 0:00:01\n",
      "   ---------------------------------------- 2.6/2.6 MB 2.7 MB/s eta 0:00:00\n",
      "Using cached pyparsing-3.1.2-py3-none-any.whl (103 kB)\n",
      "Installing collected packages: pyparsing, pillow, kiwisolver, fonttools, cycler, contourpy, matplotlib\n",
      "Successfully installed contourpy-1.2.1 cycler-0.12.1 fonttools-4.53.1 kiwisolver-1.4.5 matplotlib-3.9.1 pillow-10.4.0 pyparsing-3.1.2\n"
     ]
    },
    {
     "name": "stderr",
     "output_type": "stream",
     "text": [
      "\n",
      "[notice] A new release of pip is available: 24.0 -> 24.1.2\n",
      "[notice] To update, run: python.exe -m pip install --upgrade pip\n"
     ]
    }
   ],
   "source": [
    "!pip install matplotlib"
   ]
  },
  {
   "cell_type": "code",
   "execution_count": 5,
   "id": "f3050c15-a6e4-4174-b08a-9bd18b9ea73f",
   "metadata": {},
   "outputs": [
    {
     "name": "stdout",
     "output_type": "stream",
     "text": [
      "Requirement already satisfied: certifi in c:\\users\\hanwha\\desktop\\개인폴더\\sophia\\investment\\venv\\lib\\site-packages (2024.7.4)Note: you may need to restart the kernel to use updated packages.\n",
      "\n"
     ]
    },
    {
     "name": "stderr",
     "output_type": "stream",
     "text": [
      "\n",
      "[notice] A new release of pip is available: 24.0 -> 24.1.2\n",
      "[notice] To update, run: python.exe -m pip install --upgrade pip\n"
     ]
    }
   ],
   "source": [
    "pip install --upgrade certifi"
   ]
  },
  {
   "cell_type": "code",
   "execution_count": 2,
   "id": "f0bdcedc-6d84-4015-92ff-be16bd2c60e6",
   "metadata": {},
   "outputs": [],
   "source": [
    "import yfinance as yf\n",
    "import pandas as pd\n",
    "import numpy as np\n",
    "import matplotlib.pyplot as plt"
   ]
  },
  {
   "cell_type": "code",
   "execution_count": 6,
   "id": "17bfcc72-986f-494b-a52d-ad411a99c2ca",
   "metadata": {},
   "outputs": [
    {
     "name": "stderr",
     "output_type": "stream",
     "text": [
      "Failed to get ticker 'AAPL' reason: HTTPSConnectionPool(host='fc.yahoo.com', port=443): Max retries exceeded with url: / (Caused by SSLError(SSLCertVerificationError(1, '[SSL: CERTIFICATE_VERIFY_FAILED] certificate verify failed: self-signed certificate in certificate chain (_ssl.c:1000)')))\n",
      "[*********************100%%**********************]  1 of 1 completed\n",
      "\n",
      "1 Failed download:\n",
      "['AAPL']: YFTzMissingError('$%ticker%: possibly delisted; No timezone found')\n"
     ]
    }
   ],
   "source": [
    "# 1. 데이터 수집\n",
    "# 나스닥 상위 10개 종목의 티커를 지정합니다.\n",
    "tickers = ['AAPL']\n",
    "\n",
    "# 데이터를 다운로드합니다 (기간은 필요에 따라 조정 가능)\n",
    "data = yf.download(tickers, start='2020-01-01', end='2024-01-01')['Adj Close']"
   ]
  },
  {
   "cell_type": "code",
   "execution_count": 4,
   "id": "5bed6231-754b-4f6a-b115-abccedcbb0df",
   "metadata": {},
   "outputs": [
    {
     "ename": "ModuleNotFoundError",
     "evalue": "No module named 'yfinance'",
     "output_type": "error",
     "traceback": [
      "\u001b[1;31m---------------------------------------------------------------------------\u001b[0m",
      "\u001b[1;31mModuleNotFoundError\u001b[0m                       Traceback (most recent call last)",
      "Cell \u001b[1;32mIn[4], line 1\u001b[0m\n\u001b[1;32m----> 1\u001b[0m \u001b[38;5;28;01mimport\u001b[39;00m \u001b[38;5;21;01myfinance\u001b[39;00m \u001b[38;5;28;01mas\u001b[39;00m \u001b[38;5;21;01myf\u001b[39;00m\n\u001b[0;32m      2\u001b[0m \u001b[38;5;28;01mimport\u001b[39;00m \u001b[38;5;21;01mpandas\u001b[39;00m \u001b[38;5;28;01mas\u001b[39;00m \u001b[38;5;21;01mpd\u001b[39;00m\n\u001b[0;32m      3\u001b[0m \u001b[38;5;28;01mimport\u001b[39;00m \u001b[38;5;21;01mnumpy\u001b[39;00m \u001b[38;5;28;01mas\u001b[39;00m \u001b[38;5;21;01mnp\u001b[39;00m\n",
      "\u001b[1;31mModuleNotFoundError\u001b[0m: No module named 'yfinance'"
     ]
    }
   ],
   "source": [
    "# 1. 데이터 수집\n",
    "# 나스닥 상위 10개 종목의 티커를 지정합니다.\n",
    "tickers = ['AAPL', 'MSFT', 'GOOGL', 'AMZN', 'NVDA', 'META', 'TSLA', 'COST', 'ASML', 'AVGO']\n",
    "\n",
    "# 데이터를 다운로드합니다 (기간은 필요에 따라 조정 가능)\n",
    "data = yf.download(tickers, start='2020-01-01', end='2024-01-01')['Adj Close']\n",
    "\n",
    "# 2. 수익률 계산\n",
    "# 로그 수익률을 계산합니다\n",
    "log_returns = np.log(data / data.shift(1))\n",
    "\n",
    "# 3. 수익률과 공분산 계산\n",
    "mean_returns = log_returns.mean()\n",
    "cov_matrix = log_returns.cov()\n",
    "\n",
    "# 4. 포트폴리오 최적화\n",
    "# 랜덤 포트폴리오 생성\n",
    "num_portfolios = 10000\n",
    "results = np.zeros((num_portfolios, 3))  # 수익률, 리스크, 샤프 비율\n",
    "\n",
    "for i in range(num_portfolios):\n",
    "    weights = np.random.random(len(tickers))\n",
    "    weights /= np.sum(weights)\n",
    "    \n",
    "    portfolio_return = np.sum(weights * mean_returns)\n",
    "    portfolio_stddev = np.sqrt(np.dot(weights.T, np.dot(cov_matrix, weights)))\n",
    "    portfolio_sharpe = portfolio_return / portfolio_stddev\n",
    "    \n",
    "    results[i, 0] = portfolio_return\n",
    "    results[i, 1] = portfolio_stddev\n",
    "    results[i, 2] = portfolio_sharpe\n",
    "\n",
    "results_df = pd.DataFrame(results, columns=['Return', 'Risk', 'Sharpe Ratio'])\n",
    "\n",
    "# 5. 결과 시각화\n",
    "plt.figure(figsize=(12, 8))\n",
    "\n",
    "# 산점도 플롯\n",
    "plt.scatter(results_df['Risk'], results_df['Return'], c=results_df['Sharpe Ratio'], cmap='YlGnBu', marker='o')\n",
    "plt.colorbar(label='Sharpe Ratio')\n",
    "\n",
    "plt.title('Portfolio Optimization')\n",
    "plt.xlabel('Risk')\n",
    "plt.ylabel('Return')\n",
    "\n",
    "plt.show()"
   ]
  },
  {
   "cell_type": "code",
   "execution_count": null,
   "id": "5c1fff96-fae4-41de-b343-e77c9ae0af7d",
   "metadata": {},
   "outputs": [],
   "source": []
  },
  {
   "cell_type": "code",
   "execution_count": null,
   "id": "c7a408cb-dc81-4ddf-95f0-4ff2eda59489",
   "metadata": {},
   "outputs": [],
   "source": []
  }
 ],
 "metadata": {
  "kernelspec": {
   "display_name": "Python 3 (ipykernel)",
   "language": "python",
   "name": "python3"
  },
  "language_info": {
   "codemirror_mode": {
    "name": "ipython",
    "version": 3
   },
   "file_extension": ".py",
   "mimetype": "text/x-python",
   "name": "python",
   "nbconvert_exporter": "python",
   "pygments_lexer": "ipython3",
   "version": "3.12.3"
  }
 },
 "nbformat": 4,
 "nbformat_minor": 5
}
